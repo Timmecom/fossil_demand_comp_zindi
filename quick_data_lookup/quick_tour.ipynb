{
 "cells": [
  {
   "cell_type": "code",
   "execution_count": 1,
   "metadata": {},
   "outputs": [],
   "source": [
    "import numpy as np\n",
    "import pandas as pd\n",
    "import matplotlib.pyplot as plt"
   ]
  },
  {
   "cell_type": "code",
   "execution_count": 2,
   "metadata": {},
   "outputs": [],
   "source": [
    "filepath = '../Dataset/'\n",
    "train = pd.read_csv(filepath + 'Train.csv')\n",
    "test = pd.read_csv(filepath + 'Test.csv')\n",
    "dataDic = pd.read_csv(filepath + 'DataDictionary.csv')"
   ]
  },
  {
   "cell_type": "code",
   "execution_count": 3,
   "metadata": {},
   "outputs": [
    {
     "data": {
      "text/plain": [
       "((44907, 45), (1528, 6), (44, 2))"
      ]
     },
     "execution_count": 3,
     "metadata": {},
     "output_type": "execute_result"
    }
   ],
   "source": [
    "train.shape, test.shape, dataDic.shape"
   ]
  },
  {
   "cell_type": "markdown",
   "metadata": {},
   "source": [
    "The train data has 44907 entries which is to be used to make a prediction on 1528 entries.\n",
    "\n",
    "Interestingly, the test data has just 6 rows of data compared to the 45 rows of data in the train data.\n",
    "\n",
    "A deeper look is needed especially with the fact that there are 44 described features in the Data Dictionary"
   ]
  },
  {
   "cell_type": "code",
   "execution_count": 4,
   "metadata": {},
   "outputs": [
    {
     "data": {
      "text/html": [
       "<div>\n",
       "<style scoped>\n",
       "    .dataframe tbody tr th:only-of-type {\n",
       "        vertical-align: middle;\n",
       "    }\n",
       "\n",
       "    .dataframe tbody tr th {\n",
       "        vertical-align: top;\n",
       "    }\n",
       "\n",
       "    .dataframe thead th {\n",
       "        text-align: right;\n",
       "    }\n",
       "</style>\n",
       "<table border=\"1\" class=\"dataframe\">\n",
       "  <thead>\n",
       "    <tr style=\"text-align: right;\">\n",
       "      <th></th>\n",
       "      <th>sku_name</th>\n",
       "      <th>month</th>\n",
       "      <th>year</th>\n",
       "      <th>CAT_GENDER_BOTH</th>\n",
       "      <th>CAT_GENDER_MEN</th>\n",
       "      <th>CAT_GENDER_WOMEN</th>\n",
       "    </tr>\n",
       "  </thead>\n",
       "  <tbody>\n",
       "    <tr>\n",
       "      <th>0</th>\n",
       "      <td>YOSHTLYNYOSHZZ</td>\n",
       "      <td>11</td>\n",
       "      <td>2021</td>\n",
       "      <td>0</td>\n",
       "      <td>1</td>\n",
       "      <td>0</td>\n",
       "    </tr>\n",
       "    <tr>\n",
       "      <th>1</th>\n",
       "      <td>YOSHTLYNYOSHZZ</td>\n",
       "      <td>12</td>\n",
       "      <td>2021</td>\n",
       "      <td>0</td>\n",
       "      <td>1</td>\n",
       "      <td>0</td>\n",
       "    </tr>\n",
       "    <tr>\n",
       "      <th>2</th>\n",
       "      <td>YOSHTLYNYOSHZZ</td>\n",
       "      <td>1</td>\n",
       "      <td>2022</td>\n",
       "      <td>0</td>\n",
       "      <td>1</td>\n",
       "      <td>0</td>\n",
       "    </tr>\n",
       "    <tr>\n",
       "      <th>3</th>\n",
       "      <td>YOSHTLYNYOSHZZ</td>\n",
       "      <td>2</td>\n",
       "      <td>2022</td>\n",
       "      <td>0</td>\n",
       "      <td>1</td>\n",
       "      <td>0</td>\n",
       "    </tr>\n",
       "    <tr>\n",
       "      <th>4</th>\n",
       "      <td>YOSHRENECARL</td>\n",
       "      <td>11</td>\n",
       "      <td>2021</td>\n",
       "      <td>0</td>\n",
       "      <td>0</td>\n",
       "      <td>1</td>\n",
       "    </tr>\n",
       "  </tbody>\n",
       "</table>\n",
       "</div>"
      ],
      "text/plain": [
       "         sku_name  month  year  CAT_GENDER_BOTH  CAT_GENDER_MEN  \\\n",
       "0  YOSHTLYNYOSHZZ     11  2021                0               1   \n",
       "1  YOSHTLYNYOSHZZ     12  2021                0               1   \n",
       "2  YOSHTLYNYOSHZZ      1  2022                0               1   \n",
       "3  YOSHTLYNYOSHZZ      2  2022                0               1   \n",
       "4    YOSHRENECARL     11  2021                0               0   \n",
       "\n",
       "   CAT_GENDER_WOMEN  \n",
       "0                 0  \n",
       "1                 0  \n",
       "2                 0  \n",
       "3                 0  \n",
       "4                 1  "
      ]
     },
     "execution_count": 4,
     "metadata": {},
     "output_type": "execute_result"
    }
   ],
   "source": [
    "test.head()"
   ]
  },
  {
   "cell_type": "code",
   "execution_count": 5,
   "metadata": {},
   "outputs": [
    {
     "data": {
      "text/plain": [
       "Index(['sku_name', 'month', 'year', 'CAT_GENDER_BOTH', 'CAT_GENDER_MEN',\n",
       "       'CAT_GENDER_WOMEN'],\n",
       "      dtype='object')"
      ]
     },
     "execution_count": 5,
     "metadata": {},
     "output_type": "execute_result"
    }
   ],
   "source": [
    "test.columns"
   ]
  },
  {
   "cell_type": "code",
   "execution_count": 6,
   "metadata": {},
   "outputs": [
    {
     "data": {
      "text/html": [
       "<div>\n",
       "<style scoped>\n",
       "    .dataframe tbody tr th:only-of-type {\n",
       "        vertical-align: middle;\n",
       "    }\n",
       "\n",
       "    .dataframe tbody tr th {\n",
       "        vertical-align: top;\n",
       "    }\n",
       "\n",
       "    .dataframe thead th {\n",
       "        text-align: right;\n",
       "    }\n",
       "</style>\n",
       "<table border=\"1\" class=\"dataframe\">\n",
       "  <thead>\n",
       "    <tr style=\"text-align: right;\">\n",
       "      <th></th>\n",
       "      <th>sku_name</th>\n",
       "      <th>starting_inventory</th>\n",
       "      <th>sellin</th>\n",
       "      <th>sellin_channel_1</th>\n",
       "      <th>sellin_channel_2</th>\n",
       "      <th>sellin_channel_3</th>\n",
       "      <th>sellin_channel_4</th>\n",
       "      <th>sellin_channel_5</th>\n",
       "      <th>sellin_channel_6</th>\n",
       "      <th>sellin_channel_7</th>\n",
       "      <th>...</th>\n",
       "      <th>month</th>\n",
       "      <th>year</th>\n",
       "      <th>product_lifecycle_stage</th>\n",
       "      <th>FLAG100</th>\n",
       "      <th>disc_month</th>\n",
       "      <th>cum_disc</th>\n",
       "      <th>CAT_GENDER_BOTH</th>\n",
       "      <th>CAT_GENDER_MEN</th>\n",
       "      <th>CAT_GENDER_WOMEN</th>\n",
       "      <th>Weeks</th>\n",
       "    </tr>\n",
       "  </thead>\n",
       "  <tbody>\n",
       "    <tr>\n",
       "      <th>0</th>\n",
       "      <td>YOSHWARDTERR</td>\n",
       "      <td>0</td>\n",
       "      <td>1013</td>\n",
       "      <td>0</td>\n",
       "      <td>0</td>\n",
       "      <td>0</td>\n",
       "      <td>1013</td>\n",
       "      <td>0</td>\n",
       "      <td>0</td>\n",
       "      <td>0</td>\n",
       "      <td>...</td>\n",
       "      <td>7</td>\n",
       "      <td>2016</td>\n",
       "      <td>U</td>\n",
       "      <td>0.000000</td>\n",
       "      <td>0</td>\n",
       "      <td>0</td>\n",
       "      <td>0</td>\n",
       "      <td>1</td>\n",
       "      <td>0</td>\n",
       "      <td>1</td>\n",
       "    </tr>\n",
       "    <tr>\n",
       "      <th>1</th>\n",
       "      <td>YOSHWARDTERR</td>\n",
       "      <td>0</td>\n",
       "      <td>2026</td>\n",
       "      <td>0</td>\n",
       "      <td>0</td>\n",
       "      <td>0</td>\n",
       "      <td>2026</td>\n",
       "      <td>0</td>\n",
       "      <td>0</td>\n",
       "      <td>0</td>\n",
       "      <td>...</td>\n",
       "      <td>2</td>\n",
       "      <td>2017</td>\n",
       "      <td>U</td>\n",
       "      <td>0.000000</td>\n",
       "      <td>0</td>\n",
       "      <td>0</td>\n",
       "      <td>0</td>\n",
       "      <td>1</td>\n",
       "      <td>0</td>\n",
       "      <td>0</td>\n",
       "    </tr>\n",
       "    <tr>\n",
       "      <th>2</th>\n",
       "      <td>YOSHWARDTERR</td>\n",
       "      <td>0</td>\n",
       "      <td>1013</td>\n",
       "      <td>0</td>\n",
       "      <td>0</td>\n",
       "      <td>0</td>\n",
       "      <td>1013</td>\n",
       "      <td>0</td>\n",
       "      <td>0</td>\n",
       "      <td>0</td>\n",
       "      <td>...</td>\n",
       "      <td>5</td>\n",
       "      <td>2017</td>\n",
       "      <td>U</td>\n",
       "      <td>0.000000</td>\n",
       "      <td>0</td>\n",
       "      <td>0</td>\n",
       "      <td>0</td>\n",
       "      <td>1</td>\n",
       "      <td>0</td>\n",
       "      <td>0</td>\n",
       "    </tr>\n",
       "    <tr>\n",
       "      <th>3</th>\n",
       "      <td>YOSHUANEMARX</td>\n",
       "      <td>0</td>\n",
       "      <td>320108</td>\n",
       "      <td>4052</td>\n",
       "      <td>40520</td>\n",
       "      <td>240081</td>\n",
       "      <td>4052</td>\n",
       "      <td>6078</td>\n",
       "      <td>18234</td>\n",
       "      <td>0</td>\n",
       "      <td>...</td>\n",
       "      <td>4</td>\n",
       "      <td>2018</td>\n",
       "      <td>W</td>\n",
       "      <td>0.270966</td>\n",
       "      <td>1</td>\n",
       "      <td>1</td>\n",
       "      <td>0</td>\n",
       "      <td>0</td>\n",
       "      <td>1</td>\n",
       "      <td>1</td>\n",
       "    </tr>\n",
       "    <tr>\n",
       "      <th>4</th>\n",
       "      <td>YOSHUANEMARX</td>\n",
       "      <td>0</td>\n",
       "      <td>132703</td>\n",
       "      <td>2026</td>\n",
       "      <td>0</td>\n",
       "      <td>81040</td>\n",
       "      <td>3039</td>\n",
       "      <td>25325</td>\n",
       "      <td>18234</td>\n",
       "      <td>0</td>\n",
       "      <td>...</td>\n",
       "      <td>5</td>\n",
       "      <td>2018</td>\n",
       "      <td>W</td>\n",
       "      <td>0.063004</td>\n",
       "      <td>0</td>\n",
       "      <td>1</td>\n",
       "      <td>0</td>\n",
       "      <td>0</td>\n",
       "      <td>1</td>\n",
       "      <td>0</td>\n",
       "    </tr>\n",
       "  </tbody>\n",
       "</table>\n",
       "<p>5 rows × 45 columns</p>\n",
       "</div>"
      ],
      "text/plain": [
       "       sku_name  starting_inventory  sellin  sellin_channel_1  \\\n",
       "0  YOSHWARDTERR                   0    1013                 0   \n",
       "1  YOSHWARDTERR                   0    2026                 0   \n",
       "2  YOSHWARDTERR                   0    1013                 0   \n",
       "3  YOSHUANEMARX                   0  320108              4052   \n",
       "4  YOSHUANEMARX                   0  132703              2026   \n",
       "\n",
       "   sellin_channel_2  sellin_channel_3  sellin_channel_4  sellin_channel_5  \\\n",
       "0                 0                 0              1013                 0   \n",
       "1                 0                 0              2026                 0   \n",
       "2                 0                 0              1013                 0   \n",
       "3             40520            240081              4052              6078   \n",
       "4                 0             81040              3039             25325   \n",
       "\n",
       "   sellin_channel_6  sellin_channel_7  ...  month  year  \\\n",
       "0                 0                 0  ...      7  2016   \n",
       "1                 0                 0  ...      2  2017   \n",
       "2                 0                 0  ...      5  2017   \n",
       "3             18234                 0  ...      4  2018   \n",
       "4             18234                 0  ...      5  2018   \n",
       "\n",
       "   product_lifecycle_stage   FLAG100  disc_month  cum_disc  CAT_GENDER_BOTH  \\\n",
       "0                        U  0.000000           0         0                0   \n",
       "1                        U  0.000000           0         0                0   \n",
       "2                        U  0.000000           0         0                0   \n",
       "3                        W  0.270966           1         1                0   \n",
       "4                        W  0.063004           0         1                0   \n",
       "\n",
       "   CAT_GENDER_MEN  CAT_GENDER_WOMEN  Weeks  \n",
       "0               1                 0      1  \n",
       "1               1                 0      0  \n",
       "2               1                 0      0  \n",
       "3               0                 1      1  \n",
       "4               0                 1      0  \n",
       "\n",
       "[5 rows x 45 columns]"
      ]
     },
     "execution_count": 6,
     "metadata": {},
     "output_type": "execute_result"
    }
   ],
   "source": [
    "train.head()"
   ]
  },
  {
   "cell_type": "code",
   "execution_count": 7,
   "metadata": {},
   "outputs": [
    {
     "data": {
      "text/plain": [
       "Index(['sku_name', 'starting_inventory', 'sellin', 'sellin_channel_1',\n",
       "       'sellin_channel_2', 'sellin_channel_3', 'sellin_channel_4',\n",
       "       'sellin_channel_5', 'sellin_channel_6', 'sellin_channel_7',\n",
       "       'sellin_channel_8', 'sellout', 'onhand_inventory', 'leftover_inventory',\n",
       "       'sellout_channel_1', 'sellout_channel_2', 'sellout_channel_3',\n",
       "       'sellout_channel_4', 'sellout_channel_5', 'sellout_channel_6',\n",
       "       'sellout_channel_7', 'sellout_channel_8', 'sellout_channel_9',\n",
       "       'sellout_channel_10', 'onhand_inventory_channel_1',\n",
       "       'onhand_inventory_channel_2', 'onhand_inventory_channel_3',\n",
       "       'onhand_inventory_channel_4', 'onhand_inventory_channel_5',\n",
       "       'onhand_inventory_channel_6', 'onhand_inventory_channel_7',\n",
       "       'onhand_inventory_channel_8', 'onhand_inventory_channel_9',\n",
       "       'onhand_inventory_channel_10', 'price', 'month', 'year',\n",
       "       'product_lifecycle_stage', 'FLAG100', 'disc_month', 'cum_disc',\n",
       "       'CAT_GENDER_BOTH', 'CAT_GENDER_MEN', 'CAT_GENDER_WOMEN', 'Weeks'],\n",
       "      dtype='object')"
      ]
     },
     "execution_count": 7,
     "metadata": {},
     "output_type": "execute_result"
    }
   ],
   "source": [
    "train.columns"
   ]
  },
  {
   "cell_type": "code",
   "execution_count": 8,
   "metadata": {},
   "outputs": [
    {
     "data": {
      "text/html": [
       "<div>\n",
       "<style scoped>\n",
       "    .dataframe tbody tr th:only-of-type {\n",
       "        vertical-align: middle;\n",
       "    }\n",
       "\n",
       "    .dataframe tbody tr th {\n",
       "        vertical-align: top;\n",
       "    }\n",
       "\n",
       "    .dataframe thead th {\n",
       "        text-align: right;\n",
       "    }\n",
       "</style>\n",
       "<table border=\"1\" class=\"dataframe\">\n",
       "  <thead>\n",
       "    <tr style=\"text-align: right;\">\n",
       "      <th></th>\n",
       "      <th>Column Name</th>\n",
       "      <th>Description</th>\n",
       "    </tr>\n",
       "  </thead>\n",
       "  <tbody>\n",
       "    <tr>\n",
       "      <th>0</th>\n",
       "      <td>sku_name</td>\n",
       "      <td>Product SKU</td>\n",
       "    </tr>\n",
       "    <tr>\n",
       "      <th>1</th>\n",
       "      <td>starting_inventory</td>\n",
       "      <td>Starting inventory at the beginning of the mon...</td>\n",
       "    </tr>\n",
       "    <tr>\n",
       "      <th>2</th>\n",
       "      <td>sellin</td>\n",
       "      <td>The sellin or demand. What is sold in to our c...</td>\n",
       "    </tr>\n",
       "    <tr>\n",
       "      <th>3</th>\n",
       "      <td>sellin_channel_1</td>\n",
       "      <td>The sellin for channel 1</td>\n",
       "    </tr>\n",
       "    <tr>\n",
       "      <th>4</th>\n",
       "      <td>sellin_channel_2</td>\n",
       "      <td>The sellin for channel 2</td>\n",
       "    </tr>\n",
       "  </tbody>\n",
       "</table>\n",
       "</div>"
      ],
      "text/plain": [
       "          Column Name                                        Description\n",
       "0            sku_name                                        Product SKU\n",
       "1  starting_inventory  Starting inventory at the beginning of the mon...\n",
       "2              sellin  The sellin or demand. What is sold in to our c...\n",
       "3    sellin_channel_1                           The sellin for channel 1\n",
       "4    sellin_channel_2                           The sellin for channel 2"
      ]
     },
     "execution_count": 8,
     "metadata": {},
     "output_type": "execute_result"
    }
   ],
   "source": [
    "dataDic.head()"
   ]
  },
  {
   "cell_type": "code",
   "execution_count": 9,
   "metadata": {},
   "outputs": [
    {
     "data": {
      "text/html": [
       "<div>\n",
       "<style scoped>\n",
       "    .dataframe tbody tr th:only-of-type {\n",
       "        vertical-align: middle;\n",
       "    }\n",
       "\n",
       "    .dataframe tbody tr th {\n",
       "        vertical-align: top;\n",
       "    }\n",
       "\n",
       "    .dataframe thead th {\n",
       "        text-align: right;\n",
       "    }\n",
       "</style>\n",
       "<table border=\"1\" class=\"dataframe\">\n",
       "  <thead>\n",
       "    <tr style=\"text-align: right;\">\n",
       "      <th></th>\n",
       "      <th>Column Name</th>\n",
       "      <th>Description</th>\n",
       "    </tr>\n",
       "  </thead>\n",
       "  <tbody>\n",
       "    <tr>\n",
       "      <th>39</th>\n",
       "      <td>cum_disc</td>\n",
       "      <td>The effect of a discount may not be captured b...</td>\n",
       "    </tr>\n",
       "    <tr>\n",
       "      <th>40</th>\n",
       "      <td>CAT_GENDER_BOTH</td>\n",
       "      <td>SKU is male and female</td>\n",
       "    </tr>\n",
       "    <tr>\n",
       "      <th>41</th>\n",
       "      <td>CAT_GENDER_MEN</td>\n",
       "      <td>SKU is male</td>\n",
       "    </tr>\n",
       "    <tr>\n",
       "      <th>42</th>\n",
       "      <td>CAT_GENDER_WOMEN</td>\n",
       "      <td>SKU is female</td>\n",
       "    </tr>\n",
       "    <tr>\n",
       "      <th>43</th>\n",
       "      <td>Weeks</td>\n",
       "      <td>The number of weekends that certain month had</td>\n",
       "    </tr>\n",
       "  </tbody>\n",
       "</table>\n",
       "</div>"
      ],
      "text/plain": [
       "         Column Name                                        Description\n",
       "39          cum_disc  The effect of a discount may not be captured b...\n",
       "40   CAT_GENDER_BOTH                             SKU is male and female\n",
       "41    CAT_GENDER_MEN                                        SKU is male\n",
       "42  CAT_GENDER_WOMEN                                      SKU is female\n",
       "43             Weeks      The number of weekends that certain month had"
      ]
     },
     "execution_count": 9,
     "metadata": {},
     "output_type": "execute_result"
    }
   ],
   "source": [
    "dataDic.tail()"
   ]
  },
  {
   "cell_type": "markdown",
   "metadata": {},
   "source": [
    "\"\"\"\n",
    "The objective is to accurately predict the “sellin”, which is the optimal inventory needed to meet demand by Fossil to its own customers or channels, four months into the future.\n",
    "\"\"\"\n",
    "\n",
    "According to the task description"
   ]
  },
  {
   "cell_type": "code",
   "execution_count": 10,
   "metadata": {},
   "outputs": [
    {
     "data": {
      "text/plain": [
       "0          1013\n",
       "1          2026\n",
       "2          1013\n",
       "3        320108\n",
       "4        132703\n",
       "          ...  \n",
       "44902    156002\n",
       "44903     34442\n",
       "44904     38494\n",
       "44905     29377\n",
       "44906     18234\n",
       "Name: sellin, Length: 44907, dtype: int64"
      ]
     },
     "execution_count": 10,
     "metadata": {},
     "output_type": "execute_result"
    }
   ],
   "source": [
    "train.sellin"
   ]
  },
  {
   "cell_type": "code",
   "execution_count": 11,
   "metadata": {},
   "outputs": [
    {
     "data": {
      "text/plain": [
       "'The sellin or demand. What is sold in to our customers. \\nThis is what we are trying to predict 4 months from now (Dependent)'"
      ]
     },
     "execution_count": 11,
     "metadata": {},
     "output_type": "execute_result"
    }
   ],
   "source": [
    "dataDic[dataDic['Column Name'] == 'sellin'].iloc[0,1]"
   ]
  },
  {
   "cell_type": "markdown",
   "metadata": {},
   "source": [
    "We are trying to predict the above"
   ]
  },
  {
   "cell_type": "code",
   "execution_count": 12,
   "metadata": {},
   "outputs": [
    {
     "data": {
      "text/html": [
       "<div>\n",
       "<style scoped>\n",
       "    .dataframe tbody tr th:only-of-type {\n",
       "        vertical-align: middle;\n",
       "    }\n",
       "\n",
       "    .dataframe tbody tr th {\n",
       "        vertical-align: top;\n",
       "    }\n",
       "\n",
       "    .dataframe thead th {\n",
       "        text-align: right;\n",
       "    }\n",
       "</style>\n",
       "<table border=\"1\" class=\"dataframe\">\n",
       "  <thead>\n",
       "    <tr style=\"text-align: right;\">\n",
       "      <th></th>\n",
       "      <th>sku_name</th>\n",
       "      <th>month</th>\n",
       "      <th>year</th>\n",
       "      <th>CAT_GENDER_BOTH</th>\n",
       "      <th>CAT_GENDER_MEN</th>\n",
       "      <th>CAT_GENDER_WOMEN</th>\n",
       "    </tr>\n",
       "  </thead>\n",
       "  <tbody>\n",
       "    <tr>\n",
       "      <th>0</th>\n",
       "      <td>YOSHWARDTERR</td>\n",
       "      <td>7</td>\n",
       "      <td>2016</td>\n",
       "      <td>0</td>\n",
       "      <td>1</td>\n",
       "      <td>0</td>\n",
       "    </tr>\n",
       "    <tr>\n",
       "      <th>1</th>\n",
       "      <td>YOSHWARDTERR</td>\n",
       "      <td>2</td>\n",
       "      <td>2017</td>\n",
       "      <td>0</td>\n",
       "      <td>1</td>\n",
       "      <td>0</td>\n",
       "    </tr>\n",
       "    <tr>\n",
       "      <th>2</th>\n",
       "      <td>YOSHWARDTERR</td>\n",
       "      <td>5</td>\n",
       "      <td>2017</td>\n",
       "      <td>0</td>\n",
       "      <td>1</td>\n",
       "      <td>0</td>\n",
       "    </tr>\n",
       "    <tr>\n",
       "      <th>3</th>\n",
       "      <td>YOSHUANEMARX</td>\n",
       "      <td>4</td>\n",
       "      <td>2018</td>\n",
       "      <td>0</td>\n",
       "      <td>0</td>\n",
       "      <td>1</td>\n",
       "    </tr>\n",
       "    <tr>\n",
       "      <th>4</th>\n",
       "      <td>YOSHUANEMARX</td>\n",
       "      <td>5</td>\n",
       "      <td>2018</td>\n",
       "      <td>0</td>\n",
       "      <td>0</td>\n",
       "      <td>1</td>\n",
       "    </tr>\n",
       "  </tbody>\n",
       "</table>\n",
       "</div>"
      ],
      "text/plain": [
       "       sku_name  month  year  CAT_GENDER_BOTH  CAT_GENDER_MEN  \\\n",
       "0  YOSHWARDTERR      7  2016                0               1   \n",
       "1  YOSHWARDTERR      2  2017                0               1   \n",
       "2  YOSHWARDTERR      5  2017                0               1   \n",
       "3  YOSHUANEMARX      4  2018                0               0   \n",
       "4  YOSHUANEMARX      5  2018                0               0   \n",
       "\n",
       "   CAT_GENDER_WOMEN  \n",
       "0                 0  \n",
       "1                 0  \n",
       "2                 0  \n",
       "3                 1  \n",
       "4                 1  "
      ]
     },
     "execution_count": 12,
     "metadata": {},
     "output_type": "execute_result"
    }
   ],
   "source": [
    "test_col = list(test.columns)\n",
    "\n",
    "train[test_col].head()"
   ]
  },
  {
   "cell_type": "code",
   "execution_count": null,
   "metadata": {},
   "outputs": [],
   "source": []
  }
 ],
 "metadata": {
  "kernelspec": {
   "display_name": "Python 3",
   "language": "python",
   "name": "python3"
  },
  "language_info": {
   "codemirror_mode": {
    "name": "ipython",
    "version": 3
   },
   "file_extension": ".py",
   "mimetype": "text/x-python",
   "name": "python",
   "nbconvert_exporter": "python",
   "pygments_lexer": "ipython3",
   "version": "3.8.3"
  }
 },
 "nbformat": 4,
 "nbformat_minor": 4
}
