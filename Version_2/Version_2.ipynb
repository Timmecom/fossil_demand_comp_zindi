{
 "cells": [
  {
   "cell_type": "code",
   "execution_count": 1,
   "metadata": {},
   "outputs": [],
   "source": [
    "import numpy as np\n",
    "import pandas as pd\n",
    "import matplotlib.pyplot as plt\n",
    "import seaborn as sns"
   ]
  },
  {
   "cell_type": "code",
   "execution_count": 2,
   "metadata": {},
   "outputs": [],
   "source": [
    "filepath = 'Dataset/'\n",
    "train = pd.read_csv(filepath + 'Train.csv')\n",
    "test = pd.read_csv(filepath + 'Test.csv')\n",
    "dataDic = pd.read_csv(filepath + 'DataDictionary.csv')"
   ]
  },
  {
   "cell_type": "code",
   "execution_count": 3,
   "metadata": {},
   "outputs": [],
   "source": [
    "train_bac = train.copy()\n",
    "test_bac = test.copy()"
   ]
  },
  {
   "cell_type": "code",
   "execution_count": 4,
   "metadata": {},
   "outputs": [
    {
     "data": {
      "text/html": [
       "<div>\n",
       "<style scoped>\n",
       "    .dataframe tbody tr th:only-of-type {\n",
       "        vertical-align: middle;\n",
       "    }\n",
       "\n",
       "    .dataframe tbody tr th {\n",
       "        vertical-align: top;\n",
       "    }\n",
       "\n",
       "    .dataframe thead th {\n",
       "        text-align: right;\n",
       "    }\n",
       "</style>\n",
       "<table border=\"1\" class=\"dataframe\">\n",
       "  <thead>\n",
       "    <tr style=\"text-align: right;\">\n",
       "      <th></th>\n",
       "      <th>sku_name</th>\n",
       "      <th>month</th>\n",
       "      <th>year</th>\n",
       "      <th>CAT_GENDER_BOTH</th>\n",
       "      <th>CAT_GENDER_MEN</th>\n",
       "      <th>CAT_GENDER_WOMEN</th>\n",
       "    </tr>\n",
       "  </thead>\n",
       "  <tbody>\n",
       "    <tr>\n",
       "      <th>0</th>\n",
       "      <td>YOSHTLYNYOSHZZ</td>\n",
       "      <td>11</td>\n",
       "      <td>2021</td>\n",
       "      <td>0</td>\n",
       "      <td>1</td>\n",
       "      <td>0</td>\n",
       "    </tr>\n",
       "    <tr>\n",
       "      <th>1</th>\n",
       "      <td>YOSHTLYNYOSHZZ</td>\n",
       "      <td>12</td>\n",
       "      <td>2021</td>\n",
       "      <td>0</td>\n",
       "      <td>1</td>\n",
       "      <td>0</td>\n",
       "    </tr>\n",
       "    <tr>\n",
       "      <th>2</th>\n",
       "      <td>YOSHTLYNYOSHZZ</td>\n",
       "      <td>1</td>\n",
       "      <td>2022</td>\n",
       "      <td>0</td>\n",
       "      <td>1</td>\n",
       "      <td>0</td>\n",
       "    </tr>\n",
       "    <tr>\n",
       "      <th>3</th>\n",
       "      <td>YOSHTLYNYOSHZZ</td>\n",
       "      <td>2</td>\n",
       "      <td>2022</td>\n",
       "      <td>0</td>\n",
       "      <td>1</td>\n",
       "      <td>0</td>\n",
       "    </tr>\n",
       "    <tr>\n",
       "      <th>4</th>\n",
       "      <td>YOSHRENECARL</td>\n",
       "      <td>11</td>\n",
       "      <td>2021</td>\n",
       "      <td>0</td>\n",
       "      <td>0</td>\n",
       "      <td>1</td>\n",
       "    </tr>\n",
       "  </tbody>\n",
       "</table>\n",
       "</div>"
      ],
      "text/plain": [
       "         sku_name  month  year  CAT_GENDER_BOTH  CAT_GENDER_MEN  \\\n",
       "0  YOSHTLYNYOSHZZ     11  2021                0               1   \n",
       "1  YOSHTLYNYOSHZZ     12  2021                0               1   \n",
       "2  YOSHTLYNYOSHZZ      1  2022                0               1   \n",
       "3  YOSHTLYNYOSHZZ      2  2022                0               1   \n",
       "4    YOSHRENECARL     11  2021                0               0   \n",
       "\n",
       "   CAT_GENDER_WOMEN  \n",
       "0                 0  \n",
       "1                 0  \n",
       "2                 0  \n",
       "3                 0  \n",
       "4                 1  "
      ]
     },
     "execution_count": 4,
     "metadata": {},
     "output_type": "execute_result"
    }
   ],
   "source": [
    "test.head()"
   ]
  },
  {
   "cell_type": "code",
   "execution_count": 5,
   "metadata": {},
   "outputs": [
    {
     "data": {
      "text/html": [
       "<div>\n",
       "<style scoped>\n",
       "    .dataframe tbody tr th:only-of-type {\n",
       "        vertical-align: middle;\n",
       "    }\n",
       "\n",
       "    .dataframe tbody tr th {\n",
       "        vertical-align: top;\n",
       "    }\n",
       "\n",
       "    .dataframe thead th {\n",
       "        text-align: right;\n",
       "    }\n",
       "</style>\n",
       "<table border=\"1\" class=\"dataframe\">\n",
       "  <thead>\n",
       "    <tr style=\"text-align: right;\">\n",
       "      <th></th>\n",
       "      <th>sku_name</th>\n",
       "      <th>starting_inventory</th>\n",
       "      <th>sellin</th>\n",
       "      <th>sellin_channel_1</th>\n",
       "      <th>sellin_channel_2</th>\n",
       "      <th>sellin_channel_3</th>\n",
       "      <th>sellin_channel_4</th>\n",
       "      <th>sellin_channel_5</th>\n",
       "      <th>sellin_channel_6</th>\n",
       "      <th>sellin_channel_7</th>\n",
       "      <th>...</th>\n",
       "      <th>month</th>\n",
       "      <th>year</th>\n",
       "      <th>product_lifecycle_stage</th>\n",
       "      <th>FLAG100</th>\n",
       "      <th>disc_month</th>\n",
       "      <th>cum_disc</th>\n",
       "      <th>CAT_GENDER_BOTH</th>\n",
       "      <th>CAT_GENDER_MEN</th>\n",
       "      <th>CAT_GENDER_WOMEN</th>\n",
       "      <th>Weeks</th>\n",
       "    </tr>\n",
       "  </thead>\n",
       "  <tbody>\n",
       "    <tr>\n",
       "      <th>0</th>\n",
       "      <td>YOSHWARDTERR</td>\n",
       "      <td>0</td>\n",
       "      <td>1013</td>\n",
       "      <td>0</td>\n",
       "      <td>0</td>\n",
       "      <td>0</td>\n",
       "      <td>1013</td>\n",
       "      <td>0</td>\n",
       "      <td>0</td>\n",
       "      <td>0</td>\n",
       "      <td>...</td>\n",
       "      <td>7</td>\n",
       "      <td>2016</td>\n",
       "      <td>U</td>\n",
       "      <td>0.000000</td>\n",
       "      <td>0</td>\n",
       "      <td>0</td>\n",
       "      <td>0</td>\n",
       "      <td>1</td>\n",
       "      <td>0</td>\n",
       "      <td>1</td>\n",
       "    </tr>\n",
       "    <tr>\n",
       "      <th>1</th>\n",
       "      <td>YOSHWARDTERR</td>\n",
       "      <td>0</td>\n",
       "      <td>2026</td>\n",
       "      <td>0</td>\n",
       "      <td>0</td>\n",
       "      <td>0</td>\n",
       "      <td>2026</td>\n",
       "      <td>0</td>\n",
       "      <td>0</td>\n",
       "      <td>0</td>\n",
       "      <td>...</td>\n",
       "      <td>2</td>\n",
       "      <td>2017</td>\n",
       "      <td>U</td>\n",
       "      <td>0.000000</td>\n",
       "      <td>0</td>\n",
       "      <td>0</td>\n",
       "      <td>0</td>\n",
       "      <td>1</td>\n",
       "      <td>0</td>\n",
       "      <td>0</td>\n",
       "    </tr>\n",
       "    <tr>\n",
       "      <th>2</th>\n",
       "      <td>YOSHWARDTERR</td>\n",
       "      <td>0</td>\n",
       "      <td>1013</td>\n",
       "      <td>0</td>\n",
       "      <td>0</td>\n",
       "      <td>0</td>\n",
       "      <td>1013</td>\n",
       "      <td>0</td>\n",
       "      <td>0</td>\n",
       "      <td>0</td>\n",
       "      <td>...</td>\n",
       "      <td>5</td>\n",
       "      <td>2017</td>\n",
       "      <td>U</td>\n",
       "      <td>0.000000</td>\n",
       "      <td>0</td>\n",
       "      <td>0</td>\n",
       "      <td>0</td>\n",
       "      <td>1</td>\n",
       "      <td>0</td>\n",
       "      <td>0</td>\n",
       "    </tr>\n",
       "    <tr>\n",
       "      <th>3</th>\n",
       "      <td>YOSHUANEMARX</td>\n",
       "      <td>0</td>\n",
       "      <td>320108</td>\n",
       "      <td>4052</td>\n",
       "      <td>40520</td>\n",
       "      <td>240081</td>\n",
       "      <td>4052</td>\n",
       "      <td>6078</td>\n",
       "      <td>18234</td>\n",
       "      <td>0</td>\n",
       "      <td>...</td>\n",
       "      <td>4</td>\n",
       "      <td>2018</td>\n",
       "      <td>W</td>\n",
       "      <td>0.270966</td>\n",
       "      <td>1</td>\n",
       "      <td>1</td>\n",
       "      <td>0</td>\n",
       "      <td>0</td>\n",
       "      <td>1</td>\n",
       "      <td>1</td>\n",
       "    </tr>\n",
       "    <tr>\n",
       "      <th>4</th>\n",
       "      <td>YOSHUANEMARX</td>\n",
       "      <td>0</td>\n",
       "      <td>132703</td>\n",
       "      <td>2026</td>\n",
       "      <td>0</td>\n",
       "      <td>81040</td>\n",
       "      <td>3039</td>\n",
       "      <td>25325</td>\n",
       "      <td>18234</td>\n",
       "      <td>0</td>\n",
       "      <td>...</td>\n",
       "      <td>5</td>\n",
       "      <td>2018</td>\n",
       "      <td>W</td>\n",
       "      <td>0.063004</td>\n",
       "      <td>0</td>\n",
       "      <td>1</td>\n",
       "      <td>0</td>\n",
       "      <td>0</td>\n",
       "      <td>1</td>\n",
       "      <td>0</td>\n",
       "    </tr>\n",
       "  </tbody>\n",
       "</table>\n",
       "<p>5 rows × 45 columns</p>\n",
       "</div>"
      ],
      "text/plain": [
       "       sku_name  starting_inventory  sellin  sellin_channel_1  \\\n",
       "0  YOSHWARDTERR                   0    1013                 0   \n",
       "1  YOSHWARDTERR                   0    2026                 0   \n",
       "2  YOSHWARDTERR                   0    1013                 0   \n",
       "3  YOSHUANEMARX                   0  320108              4052   \n",
       "4  YOSHUANEMARX                   0  132703              2026   \n",
       "\n",
       "   sellin_channel_2  sellin_channel_3  sellin_channel_4  sellin_channel_5  \\\n",
       "0                 0                 0              1013                 0   \n",
       "1                 0                 0              2026                 0   \n",
       "2                 0                 0              1013                 0   \n",
       "3             40520            240081              4052              6078   \n",
       "4                 0             81040              3039             25325   \n",
       "\n",
       "   sellin_channel_6  sellin_channel_7  ...  month  year  \\\n",
       "0                 0                 0  ...      7  2016   \n",
       "1                 0                 0  ...      2  2017   \n",
       "2                 0                 0  ...      5  2017   \n",
       "3             18234                 0  ...      4  2018   \n",
       "4             18234                 0  ...      5  2018   \n",
       "\n",
       "   product_lifecycle_stage   FLAG100  disc_month  cum_disc  CAT_GENDER_BOTH  \\\n",
       "0                        U  0.000000           0         0                0   \n",
       "1                        U  0.000000           0         0                0   \n",
       "2                        U  0.000000           0         0                0   \n",
       "3                        W  0.270966           1         1                0   \n",
       "4                        W  0.063004           0         1                0   \n",
       "\n",
       "   CAT_GENDER_MEN  CAT_GENDER_WOMEN  Weeks  \n",
       "0               1                 0      1  \n",
       "1               1                 0      0  \n",
       "2               1                 0      0  \n",
       "3               0                 1      1  \n",
       "4               0                 1      0  \n",
       "\n",
       "[5 rows x 45 columns]"
      ]
     },
     "execution_count": 5,
     "metadata": {},
     "output_type": "execute_result"
    }
   ],
   "source": [
    "train.head()"
   ]
  },
  {
   "cell_type": "code",
   "execution_count": 6,
   "metadata": {},
   "outputs": [
    {
     "data": {
      "text/plain": [
       "Index(['sku_name', 'month', 'year', 'CAT_GENDER_BOTH', 'CAT_GENDER_MEN',\n",
       "       'CAT_GENDER_WOMEN'],\n",
       "      dtype='object')"
      ]
     },
     "execution_count": 6,
     "metadata": {},
     "output_type": "execute_result"
    }
   ],
   "source": [
    "test.columns"
   ]
  },
  {
   "cell_type": "code",
   "execution_count": 7,
   "metadata": {},
   "outputs": [
    {
     "data": {
      "text/plain": [
       "Index(['sku_name', 'starting_inventory', 'sellin', 'sellin_channel_1',\n",
       "       'sellin_channel_2', 'sellin_channel_3', 'sellin_channel_4',\n",
       "       'sellin_channel_5', 'sellin_channel_6', 'sellin_channel_7',\n",
       "       'sellin_channel_8', 'sellout', 'onhand_inventory', 'leftover_inventory',\n",
       "       'sellout_channel_1', 'sellout_channel_2', 'sellout_channel_3',\n",
       "       'sellout_channel_4', 'sellout_channel_5', 'sellout_channel_6',\n",
       "       'sellout_channel_7', 'sellout_channel_8', 'sellout_channel_9',\n",
       "       'sellout_channel_10', 'onhand_inventory_channel_1',\n",
       "       'onhand_inventory_channel_2', 'onhand_inventory_channel_3',\n",
       "       'onhand_inventory_channel_4', 'onhand_inventory_channel_5',\n",
       "       'onhand_inventory_channel_6', 'onhand_inventory_channel_7',\n",
       "       'onhand_inventory_channel_8', 'onhand_inventory_channel_9',\n",
       "       'onhand_inventory_channel_10', 'price', 'month', 'year',\n",
       "       'product_lifecycle_stage', 'FLAG100', 'disc_month', 'cum_disc',\n",
       "       'CAT_GENDER_BOTH', 'CAT_GENDER_MEN', 'CAT_GENDER_WOMEN', 'Weeks'],\n",
       "      dtype='object')"
      ]
     },
     "execution_count": 7,
     "metadata": {},
     "output_type": "execute_result"
    }
   ],
   "source": [
    "train.columns"
   ]
  },
  {
   "cell_type": "code",
   "execution_count": 8,
   "metadata": {
    "scrolled": false
   },
   "outputs": [
    {
     "data": {
      "text/plain": [
       "<AxesSubplot:>"
      ]
     },
     "execution_count": 8,
     "metadata": {},
     "output_type": "execute_result"
    },
    {
     "data": {
      "image/png": "[encoded data removed]",
      "text/plain": [
       "<Figure size 432x288 with 2 Axes>"
      ]
     },
     "metadata": {
      "needs_background": "light"
     },
     "output_type": "display_data"
    }
   ],
   "source": [
    "sellin_cols = ['sellin', 'sellin_channel_1',\n",
    "       'sellin_channel_2', 'sellin_channel_3', 'sellin_channel_4',\n",
    "       'sellin_channel_5', 'sellin_channel_6', 'sellin_channel_7',\n",
    "       'sellin_channel_8']# + list(test.columns)\n",
    "sns.heatmap(train[sellin_cols].corr(),cmap='Greys')"
   ]
  },
  {
   "cell_type": "code",
   "execution_count": 9,
   "metadata": {},
   "outputs": [
    {
     "data": {
      "text/html": [
       "<div>\n",
       "<style scoped>\n",
       "    .dataframe tbody tr th:only-of-type {\n",
       "        vertical-align: middle;\n",
       "    }\n",
       "\n",
       "    .dataframe tbody tr th {\n",
       "        vertical-align: top;\n",
       "    }\n",
       "\n",
       "    .dataframe thead th {\n",
       "        text-align: right;\n",
       "    }\n",
       "</style>\n",
       "<table border=\"1\" class=\"dataframe\">\n",
       "  <thead>\n",
       "    <tr style=\"text-align: right;\">\n",
       "      <th></th>\n",
       "      <th>sellin</th>\n",
       "      <th>sellin_channel_1</th>\n",
       "      <th>sellin_channel_2</th>\n",
       "      <th>sellin_channel_3</th>\n",
       "      <th>sellin_channel_4</th>\n",
       "      <th>sellin_channel_5</th>\n",
       "      <th>sellin_channel_6</th>\n",
       "      <th>sellin_channel_7</th>\n",
       "      <th>sellin_channel_8</th>\n",
       "    </tr>\n",
       "  </thead>\n",
       "  <tbody>\n",
       "    <tr>\n",
       "      <th>sellin</th>\n",
       "      <td>1.000000</td>\n",
       "      <td>0.934619</td>\n",
       "      <td>0.644332</td>\n",
       "      <td>0.453059</td>\n",
       "      <td>0.206730</td>\n",
       "      <td>0.430291</td>\n",
       "      <td>0.260087</td>\n",
       "      <td>0.531310</td>\n",
       "      <td>0.119088</td>\n",
       "    </tr>\n",
       "    <tr>\n",
       "      <th>sellin_channel_1</th>\n",
       "      <td>0.934619</td>\n",
       "      <td>1.000000</td>\n",
       "      <td>0.504755</td>\n",
       "      <td>0.338491</td>\n",
       "      <td>-0.010130</td>\n",
       "      <td>0.347477</td>\n",
       "      <td>0.177517</td>\n",
       "      <td>0.476426</td>\n",
       "      <td>-0.004022</td>\n",
       "    </tr>\n",
       "    <tr>\n",
       "      <th>sellin_channel_2</th>\n",
       "      <td>0.644332</td>\n",
       "      <td>0.504755</td>\n",
       "      <td>1.000000</td>\n",
       "      <td>0.242143</td>\n",
       "      <td>-0.003514</td>\n",
       "      <td>0.273330</td>\n",
       "      <td>0.098772</td>\n",
       "      <td>0.317326</td>\n",
       "      <td>-0.013154</td>\n",
       "    </tr>\n",
       "    <tr>\n",
       "      <th>sellin_channel_7</th>\n",
       "      <td>0.531310</td>\n",
       "      <td>0.476426</td>\n",
       "      <td>0.317326</td>\n",
       "      <td>0.165568</td>\n",
       "      <td>-0.013805</td>\n",
       "      <td>0.213250</td>\n",
       "      <td>0.089392</td>\n",
       "      <td>1.000000</td>\n",
       "      <td>-0.021555</td>\n",
       "    </tr>\n",
       "  </tbody>\n",
       "</table>\n",
       "</div>"
      ],
      "text/plain": [
       "                    sellin  sellin_channel_1  sellin_channel_2  \\\n",
       "sellin            1.000000          0.934619          0.644332   \n",
       "sellin_channel_1  0.934619          1.000000          0.504755   \n",
       "sellin_channel_2  0.644332          0.504755          1.000000   \n",
       "sellin_channel_7  0.531310          0.476426          0.317326   \n",
       "\n",
       "                  sellin_channel_3  sellin_channel_4  sellin_channel_5  \\\n",
       "sellin                    0.453059          0.206730          0.430291   \n",
       "sellin_channel_1          0.338491         -0.010130          0.347477   \n",
       "sellin_channel_2          0.242143         -0.003514          0.273330   \n",
       "sellin_channel_7          0.165568         -0.013805          0.213250   \n",
       "\n",
       "                  sellin_channel_6  sellin_channel_7  sellin_channel_8  \n",
       "sellin                    0.260087          0.531310          0.119088  \n",
       "sellin_channel_1          0.177517          0.476426         -0.004022  \n",
       "sellin_channel_2          0.098772          0.317326         -0.013154  \n",
       "sellin_channel_7          0.089392          1.000000         -0.021555  "
      ]
     },
     "execution_count": 9,
     "metadata": {},
     "output_type": "execute_result"
    }
   ],
   "source": [
    "train[sellin_cols].corr()[train[sellin_cols].corr().mean()>0.3]"
   ]
  },
  {
   "cell_type": "code",
   "execution_count": 10,
   "metadata": {
    "scrolled": true
   },
   "outputs": [
    {
     "data": {
      "text/plain": [
       "<AxesSubplot:>"
      ]
     },
     "execution_count": 10,
     "metadata": {},
     "output_type": "execute_result"
    },
    {
     "data": {
      "image/png": "[encoded data removed]",
      "text/plain": [
       "<Figure size 432x288 with 2 Axes>"
      ]
     },
     "metadata": {
      "needs_background": "light"
     },
     "output_type": "display_data"
    }
   ],
   "source": [
    "gen_inv_cols = ['sellin', 'sellout', 'onhand_inventory', 'leftover_inventory']# + list(test.columns)\n",
    "sns.heatmap(train[gen_inv_cols].corr(),cmap='Greys')"
   ]
  },
  {
   "cell_type": "code",
   "execution_count": 11,
   "metadata": {},
   "outputs": [
    {
     "data": {
      "text/plain": [
       "12    35104\n",
       "11     6617\n",
       "14     2214\n",
       "13      533\n",
       "10      439\n",
       "Name: sku_name, dtype: int64"
      ]
     },
     "execution_count": 11,
     "metadata": {},
     "output_type": "execute_result"
    }
   ],
   "source": [
    "train.sku_name.str.len().value_counts()"
   ]
  },
  {
   "cell_type": "code",
   "execution_count": 12,
   "metadata": {},
   "outputs": [],
   "source": [
    "train=train_bac"
   ]
  },
  {
   "cell_type": "code",
   "execution_count": 13,
   "metadata": {},
   "outputs": [
    {
     "data": {
      "text/plain": [
       "Index(['name_A', 'name_B', 'name_C', 'name_D', 'name_E', 'name_F', 'name_G',\n",
       "       'name_H', 'name_I', 'name_J', 'name_K', 'name_L', 'name_M', 'name_N',\n",
       "       'name_O', 'name_P', 'name_Q', 'name_R', 'name_S', 'name_T', 'name_U',\n",
       "       'name_V', 'name_W', 'name_X', 'name_Y', 'name_Z'],\n",
       "      dtype='object')"
      ]
     },
     "execution_count": 13,
     "metadata": {},
     "output_type": "execute_result"
    }
   ],
   "source": [
    "coll = []\n",
    "\n",
    "def func1(x):\n",
    "    counter = [0 for i in range(26)]\n",
    "    for i in x:\n",
    "        counter[ord(i)-65] = 1\n",
    "    coll.append(counter)\n",
    "    return x\n",
    "\n",
    "train.sku_name.apply(func1)\n",
    "\n",
    "name_df = pd.DataFrame(coll,columns=['name_'+chr(65+i) for i in range(26)])\n",
    "\n",
    "name_df.columns"
   ]
  },
  {
   "cell_type": "code",
   "execution_count": 14,
   "metadata": {},
   "outputs": [
    {
     "data": {
      "text/plain": [
       "Index(['names_A', 'names_B', 'names_C', 'names_D', 'names_E', 'names_F',\n",
       "       'names_G', 'names_H', 'names_I', 'names_J', 'names_K', 'names_L',\n",
       "       'names_M', 'names_N', 'names_O', 'names_P', 'names_Q', 'names_R',\n",
       "       'names_S', 'names_T', 'names_U', 'names_V', 'names_W', 'names_X',\n",
       "       'names_Y', 'names_Z'],\n",
       "      dtype='object')"
      ]
     },
     "execution_count": 14,
     "metadata": {},
     "output_type": "execute_result"
    }
   ],
   "source": [
    "coll = []\n",
    "\n",
    "def func1(x):\n",
    "    counter = [0 for i in range(26)]\n",
    "    for i in x:\n",
    "        counter[ord(i)-65] += 1\n",
    "    coll.append(counter)\n",
    "    return len(x)\n",
    "\n",
    "train['sku_name_count'] = train.sku_name.apply(func1)\n",
    "\n",
    "names_df = pd.DataFrame(coll,columns=['names_'+chr(65+i) for i in range(26)])\n",
    "\n",
    "names_df.columns"
   ]
  },
  {
   "cell_type": "code",
   "execution_count": 15,
   "metadata": {},
   "outputs": [],
   "source": [
    "train = pd.concat([train,name_df,names_df],axis=1)"
   ]
  },
  {
   "cell_type": "code",
   "execution_count": 16,
   "metadata": {},
   "outputs": [],
   "source": [
    "def get_train_test_sets(data,features,label,test_size=.2):\n",
    "    from sklearn.model_selection import train_test_split\n",
    "    X_train,X_test,y_train,y_test = train_test_split(data[features],data[label],test_size=test_size,random_state=44)\n",
    "    return X_train,X_test,y_train,y_test\n",
    "\n",
    "features = (['sku_name_count']+\n",
    "            list(name_df.columns)+\n",
    "            list(names_df.columns)+\n",
    "            ['month','year']+\n",
    "            ['CAT_GENDER_BOTH', 'CAT_GENDER_MEN','CAT_GENDER_WOMEN'])\n",
    "\n",
    "X_train,X_test,y_train,y_test = get_train_test_sets(train,features,'sellin')"
   ]
  },
  {
   "cell_type": "code",
   "execution_count": null,
   "metadata": {},
   "outputs": [],
   "source": [
    "from sklearn.ensemble import RandomForestRegressor as RFR\n",
    "\n",
    "reg1 = RFR(random_state=74,criterion='mae')\n",
    "\n",
    "reg1.fit(X_train,y_train)"
   ]
  },
  {
   "cell_type": "code",
   "execution_count": null,
   "metadata": {},
   "outputs": [],
   "source": [
    "y_pred = reg1.predict(X_test)\n",
    "\n",
    "from sklearn.metrics import mean_absolute_error as mae_\n",
    "\n",
    "mae_(y_pred,y_test)"
   ]
  },
  {
   "cell_type": "code",
   "execution_count": 19,
   "metadata": {},
   "outputs": [
    {
     "data": {
      "text/plain": [
       "(35925, 58)"
      ]
     },
     "execution_count": 19,
     "metadata": {},
     "output_type": "execute_result"
    }
   ],
   "source": [
    "X_train.shape"
   ]
  },
  {
   "cell_type": "markdown",
   "metadata": {},
   "source": [
    "207232.10090334452 - []\n",
    "207141.68024162986 - [cats]\n",
    "174349.93687730117 - [dates]\n",
    "173522.81399498135 - [dates] + [cats]"
   ]
  },
  {
   "cell_type": "markdown",
   "metadata": {},
   "source": [
    "## To make Predictions now!"
   ]
  },
  {
   "cell_type": "code",
   "execution_count": 20,
   "metadata": {},
   "outputs": [
    {
     "data": {
      "text/plain": [
       "RandomForestRegressor(random_state=74)"
      ]
     },
     "execution_count": 20,
     "metadata": {},
     "output_type": "execute_result"
    }
   ],
   "source": [
    "reg2 = RFR(random_state=74)\n",
    "\n",
    "reg2.fit(train[features],train['sellin'])"
   ]
  },
  {
   "cell_type": "code",
   "execution_count": 21,
   "metadata": {},
   "outputs": [
    {
     "data": {
      "text/plain": [
       "((1528, 7), (1528, 26))"
      ]
     },
     "execution_count": 21,
     "metadata": {},
     "output_type": "execute_result"
    }
   ],
   "source": [
    "coll_test = []\n",
    "\n",
    "def func2(x):\n",
    "    counter = [0 for i in range(26)]\n",
    "    for i in x:\n",
    "        counter[ord(i)-65] = 1\n",
    "    coll_test.append(counter)\n",
    "    return x\n",
    "\n",
    "test.sku_name.apply(func2)\n",
    "\n",
    "name_test_df = pd.DataFrame(coll_test,columns=['name_'+chr(65+i) for i in range(26)])\n",
    "\n",
    "coll_test = []\n",
    "\n",
    "def func2(x):\n",
    "    counter = [0 for i in range(26)]\n",
    "    for i in x:\n",
    "        counter[ord(i)-65] += 1\n",
    "    coll_test.append(counter)\n",
    "    return len(x)\n",
    "\n",
    "test['sku_name_count'] = test.sku_name.apply(func2)\n",
    "\n",
    "names_test_df = pd.DataFrame(coll_test,columns=['names_'+chr(65+i) for i in range(26)])\n",
    "\n",
    "test.shape,names_test_df.shape"
   ]
  },
  {
   "cell_type": "code",
   "execution_count": 22,
   "metadata": {},
   "outputs": [
    {
     "data": {
      "text/plain": [
       "(1528, 59)"
      ]
     },
     "execution_count": 22,
     "metadata": {},
     "output_type": "execute_result"
    }
   ],
   "source": [
    "#test = test_bac\n",
    "test = pd.concat([test,name_test_df,names_test_df],axis=1)\n",
    "test.shape"
   ]
  },
  {
   "cell_type": "code",
   "execution_count": 23,
   "metadata": {},
   "outputs": [],
   "source": [
    "\n",
    "#features_test = list(names_test_df.columns)+['month','year']+['CAT_GENDER_BOTH', 'CAT_GENDER_MEN','CAT_GENDER_WOMEN']\n",
    "\n",
    "predictions = reg2.predict(test[features])"
   ]
  },
  {
   "cell_type": "code",
   "execution_count": 24,
   "metadata": {},
   "outputs": [],
   "source": [
    "test['ID'] = test.sku_name+'_'+test.month.astype('string')+'_'+test.year.astype('string')"
   ]
  },
  {
   "cell_type": "code",
   "execution_count": 25,
   "metadata": {},
   "outputs": [],
   "source": [
    "result = pd.DataFrame({\n",
    "    'Item_ID':test.ID,\n",
    "    'Target':predictions\n",
    "})\n",
    "result=result.set_index('Item_ID')\n",
    "\n",
    "result.to_csv('submission_version2_03.csv')\n"
   ]
  },
  {
   "cell_type": "code",
   "execution_count": 38,
   "metadata": {},
   "outputs": [
    {
     "data": {
      "text/plain": [
       "{'bootstrap': True,\n",
       " 'ccp_alpha': 0.0,\n",
       " 'criterion': 'mse',\n",
       " 'max_depth': None,\n",
       " 'max_features': 'auto',\n",
       " 'max_leaf_nodes': None,\n",
       " 'max_samples': None,\n",
       " 'min_impurity_decrease': 0.0,\n",
       " 'min_impurity_split': None,\n",
       " 'min_samples_leaf': 1,\n",
       " 'min_samples_split': 2,\n",
       " 'min_weight_fraction_leaf': 0.0,\n",
       " 'n_estimators': 100,\n",
       " 'n_jobs': None,\n",
       " 'oob_score': False,\n",
       " 'random_state': 74,\n",
       " 'verbose': 0,\n",
       " 'warm_start': False}"
      ]
     },
     "execution_count": 38,
     "metadata": {},
     "output_type": "execute_result"
    }
   ],
   "source": [
    "reg2.get_params()"
   ]
  },
  {
   "cell_type": "code",
   "execution_count": 37,
   "metadata": {
    "scrolled": true
   },
   "outputs": [
    {
     "data": {
      "text/plain": [
       "{'bootstrap': True,\n",
       " 'ccp_alpha': 0.0,\n",
       " 'criterion': 'mse',\n",
       " 'max_depth': None,\n",
       " 'max_features': 'auto',\n",
       " 'max_leaf_nodes': None,\n",
       " 'max_samples': None,\n",
       " 'min_impurity_decrease': 0.0,\n",
       " 'min_impurity_split': None,\n",
       " 'min_samples_leaf': 1,\n",
       " 'min_samples_split': 2,\n",
       " 'min_weight_fraction_leaf': 0.0,\n",
       " 'n_estimators': 100,\n",
       " 'n_jobs': None,\n",
       " 'oob_score': False,\n",
       " 'random_state': 74,\n",
       " 'verbose': 0,\n",
       " 'warm_start': False}"
      ]
     },
     "execution_count": 37,
     "metadata": {},
     "output_type": "execute_result"
    }
   ],
   "source": [
    "reg1.get_params()"
   ]
  }
 ],
 "metadata": {
  "kernelspec": {
   "display_name": "Python 3",
   "language": "python",
   "name": "python3"
  },
  "language_info": {
   "codemirror_mode": {
    "name": "ipython",
    "version": 3
   },
   "file_extension": ".py",
   "mimetype": "text/x-python",
   "name": "python",
   "nbconvert_exporter": "python",
   "pygments_lexer": "ipython3",
   "version": "3.8.3"
  }
 },
 "nbformat": 4,
 "nbformat_minor": 4
}
